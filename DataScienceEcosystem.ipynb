{
 "cells": [
  {
   "cell_type": "markdown",
   "id": "a33e3446-a7f6-4395-add0-7c2d940d5c1f",
   "metadata": {},
   "source": [
    "# Data Science Tools and Ecosystem"
   ]
  },
  {
   "cell_type": "markdown",
   "id": "de55da64-58d3-4f8d-8c98-82caa2338056",
   "metadata": {},
   "source": [
    "## Author\n",
    "Ethan Carter"
   ]
  },
  {
   "cell_type": "markdown",
   "id": "9a822b45-7518-44be-8bc0-811709a83d85",
   "metadata": {},
   "source": [
    "In this notebook, Data Science Tools and Ecosystem are summarized."
   ]
  },
  {
   "cell_type": "markdown",
   "id": "d66172f1-e290-44fe-8a0f-377efe69e5b3",
   "metadata": {},
   "source": [
    "**Objectives:**\n",
    "\n",
    "- List popular languages that Data Scientists use\n",
    "- List commonly used libraries that Data Scientists use\n",
    "- List popular Data Science Tools\n",
    "- Demonstrate basic arithmetic expression in Python"
   ]
  },
  {
   "cell_type": "markdown",
   "id": "6aaaeef4-f11c-41b0-8c43-b4ea0d26fed6",
   "metadata": {},
   "source": [
    "Some of the popular languages that Data Scientists use are:\n",
    "\n",
    "1. SQL\n",
    "2. Python\n",
    "3. R"
   ]
  },
  {
   "cell_type": "markdown",
   "id": "96548e4e-c4ac-448e-9a21-3e7c9e0cacc1",
   "metadata": {},
   "source": [
    "Some of the commonly used libraries used by Data Scientists include:\n",
    "\n",
    "1. Pandas\n",
    "2. NumPy\n",
    "3. Matplotlib"
   ]
  },
  {
   "cell_type": "markdown",
   "id": "17f13cdd-5a67-4ff8-bece-4a7ba8585413",
   "metadata": {},
   "source": [
    "| Data Science Tools |\n",
    "| ---- |\n",
    "| Jupyter Notebooks |\n",
    "| RStudio |\n",
    "| Google Colab |"
   ]
  },
  {
   "cell_type": "markdown",
   "id": "c757aff7-a407-47c0-bda7-99201e480dc5",
   "metadata": {},
   "source": [
    "### Below are a few examples of evaluating arithmetic expressions in Python"
   ]
  },
  {
   "cell_type": "code",
   "execution_count": 3,
   "id": "d011b06d-5d03-4c60-bf0b-b327ef887135",
   "metadata": {},
   "outputs": [
    {
     "data": {
      "text/plain": [
       "17"
      ]
     },
     "execution_count": 3,
     "metadata": {},
     "output_type": "execute_result"
    }
   ],
   "source": [
    "(3*4)+5"
   ]
  },
  {
   "cell_type": "code",
   "execution_count": 4,
   "id": "1d1c38f8-58d7-4982-9625-4f47bacea6f3",
   "metadata": {},
   "outputs": [
    {
     "data": {
      "text/plain": [
       "3.3333333333333335"
      ]
     },
     "execution_count": 4,
     "metadata": {},
     "output_type": "execute_result"
    }
   ],
   "source": [
    "# This will convert 200 minutes to hours by dividing by 60\n",
    "\n",
    "200/60"
   ]
  },
  {
   "cell_type": "markdown",
   "id": "1a6874bf-968b-4c58-8ba2-46dbca7ad685",
   "metadata": {},
   "source": []
  }
 ],
 "metadata": {
  "kernelspec": {
   "display_name": "anaconda-ai-2024.04-py310",
   "language": "python",
   "name": "conda-env-anaconda-ai-2024.04-py310-py"
  },
  "language_info": {
   "codemirror_mode": {
    "name": "ipython",
    "version": 3
   },
   "file_extension": ".py",
   "mimetype": "text/x-python",
   "name": "python",
   "nbconvert_exporter": "python",
   "pygments_lexer": "ipython3",
   "version": "3.10.13"
  }
 },
 "nbformat": 4,
 "nbformat_minor": 5
}
